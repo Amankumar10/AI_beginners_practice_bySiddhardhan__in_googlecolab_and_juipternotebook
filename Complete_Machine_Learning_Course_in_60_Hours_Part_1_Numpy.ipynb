{
  "nbformat": 4,
  "nbformat_minor": 0,
  "metadata": {
    "colab": {
      "provenance": [],
      "authorship_tag": "ABX9TyMui62qgDbvh+SDJ53pzOwa",
      "include_colab_link": true
    },
    "kernelspec": {
      "name": "python3",
      "display_name": "Python 3"
    },
    "language_info": {
      "name": "python"
    }
  },
  "cells": [
    {
      "cell_type": "markdown",
      "metadata": {
        "id": "view-in-github",
        "colab_type": "text"
      },
      "source": [
        "<a href=\"https://colab.research.google.com/github/Amankumar10/AI_practice_colab/blob/main/Complete_Machine_Learning_Course_in_60_Hours_Part_1_Numpy.ipynb\" target=\"_parent\"><img src=\"https://colab.research.google.com/assets/colab-badge.svg\" alt=\"Open In Colab\"/></a>"
      ]
    },
    {
      "cell_type": "markdown",
      "source": [
        "Numpy-Numberical Python\n",
        "\n",
        "\n",
        "Advantage of Numpy Arrays:\n",
        "\n",
        "\n",
        "1.Allows several Mathematical Operations\n",
        "\n",
        "2.Faster operations\n"
      ],
      "metadata": {
        "id": "rweT7qZuTsLk"
      }
    },
    {
      "cell_type": "code",
      "execution_count": null,
      "metadata": {
        "id": "ziQ5Z0nrTaWk"
      },
      "outputs": [],
      "source": [
        "import numpy as np\n"
      ]
    },
    {
      "cell_type": "markdown",
      "source": [
        "List vs numpy - Time Taken"
      ],
      "metadata": {
        "id": "KO15tCDQQ8-q"
      }
    },
    {
      "cell_type": "code",
      "source": [
        "from time import process_time"
      ],
      "metadata": {
        "id": "WlGL81JRQ5DT"
      },
      "execution_count": null,
      "outputs": []
    },
    {
      "cell_type": "markdown",
      "source": [
        "Time taken by a list"
      ],
      "metadata": {
        "id": "dRYVoueHRBjB"
      }
    },
    {
      "cell_type": "code",
      "source": [
        "python_list = [i for i in range(10000)]\n",
        "\n",
        "start_time = process_time()\n",
        "python_list = [i+5 for i in python_list]\n",
        "\n",
        "end_time = process_time()\n",
        "\n",
        "print(end_time - start_time)\n"
      ],
      "metadata": {
        "colab": {
          "base_uri": "https://localhost:8080/"
        },
        "id": "bPwnVYpWRE_e",
        "outputId": "df25dc2e-6c70-4ca8-86de-8a07a737e201"
      },
      "execution_count": null,
      "outputs": [
        {
          "output_type": "stream",
          "name": "stdout",
          "text": [
            "0.0009207769999997062\n"
          ]
        }
      ]
    },
    {
      "cell_type": "code",
      "source": [
        "np_array = np.array([i for i in range(10000)])\n",
        "start_time = process_time()\n",
        "np_array += 5\n",
        "\n",
        "end_time = process_time()\n",
        "\n",
        "print(end_time - start_time)"
      ],
      "metadata": {
        "colab": {
          "base_uri": "https://localhost:8080/"
        },
        "id": "mENB_1x-RmSD",
        "outputId": "e47504ac-9bbb-4737-8103-05363b87a38c"
      },
      "execution_count": null,
      "outputs": [
        {
          "output_type": "stream",
          "name": "stdout",
          "text": [
            "0.0012046950000002\n"
          ]
        }
      ]
    },
    {
      "cell_type": "markdown",
      "source": [
        "Numpy Arrays"
      ],
      "metadata": {
        "id": "deFmGeDHTMCN"
      }
    },
    {
      "cell_type": "code",
      "source": [
        "#List\n",
        "list1 = [1,2,3,4,5]\n",
        "print(list1)\n",
        "type(list1)"
      ],
      "metadata": {
        "colab": {
          "base_uri": "https://localhost:8080/"
        },
        "id": "c7rmuCSfS9eD",
        "outputId": "fa529ad2-8e4c-4cc2-d2d2-b166185ce6d0"
      },
      "execution_count": null,
      "outputs": [
        {
          "output_type": "stream",
          "name": "stdout",
          "text": [
            "[1, 2, 3, 4, 5]\n"
          ]
        },
        {
          "output_type": "execute_result",
          "data": {
            "text/plain": [
              "list"
            ]
          },
          "metadata": {},
          "execution_count": 6
        }
      ]
    },
    {
      "cell_type": "code",
      "source": [
        "np_array = np.array([1,2,3,4,5])\n",
        "print(np_array)\n",
        "type(np_array)"
      ],
      "metadata": {
        "colab": {
          "base_uri": "https://localhost:8080/"
        },
        "id": "KMlP4LVLTXK_",
        "outputId": "f640602d-ffa2-4f38-c707-791166fc99f3"
      },
      "execution_count": null,
      "outputs": [
        {
          "output_type": "stream",
          "name": "stdout",
          "text": [
            "[1 2 3 4 5]\n"
          ]
        },
        {
          "output_type": "execute_result",
          "data": {
            "text/plain": [
              "numpy.ndarray"
            ]
          },
          "metadata": {},
          "execution_count": 7
        }
      ]
    },
    {
      "cell_type": "code",
      "source": [
        "#creating a 1 dim array\n",
        "a =np_array = np.array([1,2,3,4,5])\n",
        "print(a)\n",
        "a.shape"
      ],
      "metadata": {
        "colab": {
          "base_uri": "https://localhost:8080/"
        },
        "id": "0VWSLQubTg4o",
        "outputId": "3079ef02-c4c2-4e58-8bae-8ce5b41c2aa4"
      },
      "execution_count": null,
      "outputs": [
        {
          "output_type": "stream",
          "name": "stdout",
          "text": [
            "[1 2 3 4 5]\n"
          ]
        },
        {
          "output_type": "execute_result",
          "data": {
            "text/plain": [
              "(5,)"
            ]
          },
          "metadata": {},
          "execution_count": 8
        }
      ]
    },
    {
      "cell_type": "code",
      "source": [
        "b = np.array([(1,2,3,4),(5,6,7,8)])\n",
        "print(b)"
      ],
      "metadata": {
        "id": "1hVZrQbmTrFE",
        "colab": {
          "base_uri": "https://localhost:8080/"
        },
        "outputId": "a89ebd4e-dfc5-4346-dc48-ed3eaa39ab55"
      },
      "execution_count": null,
      "outputs": [
        {
          "output_type": "stream",
          "name": "stdout",
          "text": [
            "[[1 2 3 4]\n",
            " [5 6 7 8]]\n"
          ]
        }
      ]
    },
    {
      "cell_type": "code",
      "source": [
        "c = np.array([(1,2,3,4),(5,6,7,8)],dtype=float)\n",
        "print(c)"
      ],
      "metadata": {
        "colab": {
          "base_uri": "https://localhost:8080/"
        },
        "id": "21vd1hqZbaT0",
        "outputId": "e833ef59-f459-4abf-fa63-8053d98c5f23"
      },
      "execution_count": null,
      "outputs": [
        {
          "output_type": "stream",
          "name": "stdout",
          "text": [
            "[[1. 2. 3. 4.]\n",
            " [5. 6. 7. 8.]]\n"
          ]
        }
      ]
    },
    {
      "cell_type": "markdown",
      "source": [
        "Initial Placeholders in numpy arrays"
      ],
      "metadata": {
        "id": "oh8rkihIe8xz"
      }
    },
    {
      "cell_type": "code",
      "source": [
        "#create a numpy array of zeros\n",
        "x = np.zeros((4,5))\n",
        "print(x)"
      ],
      "metadata": {
        "id": "BHzN6kzkeUjc",
        "colab": {
          "base_uri": "https://localhost:8080/"
        },
        "outputId": "b6e2dd0a-afe3-4c7c-f64c-f009a906344a"
      },
      "execution_count": null,
      "outputs": [
        {
          "output_type": "stream",
          "name": "stdout",
          "text": [
            "[[0. 0. 0. 0. 0.]\n",
            " [0. 0. 0. 0. 0.]\n",
            " [0. 0. 0. 0. 0.]\n",
            " [0. 0. 0. 0. 0.]]\n"
          ]
        }
      ]
    },
    {
      "cell_type": "code",
      "source": [
        "# create a numpy array of one\n",
        "y= np.ones((3,3))\n",
        "print(y)"
      ],
      "metadata": {
        "colab": {
          "base_uri": "https://localhost:8080/"
        },
        "id": "3qbYjFztheBG",
        "outputId": "2d5085b6-969c-444a-987a-d8a7c833fa0f"
      },
      "execution_count": null,
      "outputs": [
        {
          "output_type": "stream",
          "name": "stdout",
          "text": [
            "[[1. 1. 1.]\n",
            " [1. 1. 1.]\n",
            " [1. 1. 1.]]\n"
          ]
        }
      ]
    },
    {
      "cell_type": "code",
      "source": [
        "#array of a particular value\n",
        "z = np.full((5,4),5)\n",
        "print(z)"
      ],
      "metadata": {
        "colab": {
          "base_uri": "https://localhost:8080/"
        },
        "id": "JWBOJ41Chz58",
        "outputId": "71579f8d-6496-4895-d96f-52d39746a388"
      },
      "execution_count": null,
      "outputs": [
        {
          "output_type": "stream",
          "name": "stdout",
          "text": [
            "[[5 5 5 5]\n",
            " [5 5 5 5]\n",
            " [5 5 5 5]\n",
            " [5 5 5 5]\n",
            " [5 5 5 5]]\n"
          ]
        }
      ]
    },
    {
      "cell_type": "code",
      "source": [
        "#create an identity matrix\n",
        "a = np.eye(4)\n",
        "print(a)"
      ],
      "metadata": {
        "colab": {
          "base_uri": "https://localhost:8080/"
        },
        "id": "Hl6uTaZch9Mc",
        "outputId": "69da35a2-b7a3-4dff-c9bf-b123b15ad35e"
      },
      "execution_count": null,
      "outputs": [
        {
          "output_type": "stream",
          "name": "stdout",
          "text": [
            "[[1. 0. 0. 0.]\n",
            " [0. 1. 0. 0.]\n",
            " [0. 0. 1. 0.]\n",
            " [0. 0. 0. 1.]]\n"
          ]
        }
      ]
    },
    {
      "cell_type": "code",
      "source": [
        "#crete a numpy array with random values\n",
        "b = np.random.random((3,4))\n",
        "print(b)"
      ],
      "metadata": {
        "colab": {
          "base_uri": "https://localhost:8080/"
        },
        "id": "X0BTO5xFieo4",
        "outputId": "626d081b-a0bb-4f07-e8d1-c29fa8a68bf0"
      },
      "execution_count": null,
      "outputs": [
        {
          "output_type": "stream",
          "name": "stdout",
          "text": [
            "[[0.57773854 0.86918398 0.72723635 0.86591461]\n",
            " [0.42180363 0.02826171 0.59705326 0.73264628]\n",
            " [0.05411581 0.8087476  0.95314176 0.1772586 ]]\n"
          ]
        }
      ]
    },
    {
      "cell_type": "code",
      "source": [
        "# random integer values array within a specific range\n",
        "c = np.random.randint(10,100,(3,5))\n",
        "print(c)"
      ],
      "metadata": {
        "colab": {
          "base_uri": "https://localhost:8080/"
        },
        "id": "Sq8wAajlixZC",
        "outputId": "4545a75e-7a2f-4368-e4cb-e7acac3daee9"
      },
      "execution_count": null,
      "outputs": [
        {
          "output_type": "stream",
          "name": "stdout",
          "text": [
            "[[91 16 59 56 86]\n",
            " [33 75 29 15 68]\n",
            " [31 18 27 28 66]]\n"
          ]
        }
      ]
    },
    {
      "cell_type": "code",
      "source": [
        "#array of evenly spaced values --> specifying the no. of values required\n",
        "d = np.linspace(10,30,6)\n",
        "print(d)"
      ],
      "metadata": {
        "colab": {
          "base_uri": "https://localhost:8080/"
        },
        "id": "y8SJYpzhjDo5",
        "outputId": "8be56799-e75c-48ca-a1bc-96c0b3f9f228"
      },
      "execution_count": null,
      "outputs": [
        {
          "output_type": "stream",
          "name": "stdout",
          "text": [
            "[10. 14. 18. 22. 26. 30.]\n"
          ]
        }
      ]
    },
    {
      "cell_type": "code",
      "source": [
        "#array of evenly spaced values --> specifying the step\n",
        "e = np.arange(10,30,5)\n",
        "print(e)"
      ],
      "metadata": {
        "colab": {
          "base_uri": "https://localhost:8080/"
        },
        "id": "QUCD6VmLjOmR",
        "outputId": "64e4da0e-ef2b-4dfc-ff5a-550a996739f6"
      },
      "execution_count": null,
      "outputs": [
        {
          "output_type": "stream",
          "name": "stdout",
          "text": [
            "[10 15 20 25]\n"
          ]
        }
      ]
    },
    {
      "cell_type": "code",
      "source": [
        "# convert a list to a numpy array\n",
        "list2 = [10,20,20,20,50]\n",
        "\n",
        "np_array = np.asarray(list2)\n",
        "print(np_array)\n",
        "type(np_array)"
      ],
      "metadata": {
        "colab": {
          "base_uri": "https://localhost:8080/"
        },
        "id": "_F5XgI55j0FP",
        "outputId": "6e9aed1e-68e1-4e15-abf1-c5331918c893"
      },
      "execution_count": null,
      "outputs": [
        {
          "output_type": "stream",
          "name": "stdout",
          "text": [
            "[10 20 20 20 50]\n"
          ]
        },
        {
          "output_type": "execute_result",
          "data": {
            "text/plain": [
              "numpy.ndarray"
            ]
          },
          "metadata": {},
          "execution_count": 12
        }
      ]
    },
    {
      "cell_type": "markdown",
      "source": [
        "Analysing a numpy array\n"
      ],
      "metadata": {
        "id": "dQLcyL97kUm6"
      }
    },
    {
      "cell_type": "code",
      "source": [
        "c = np.random.randint(10,90,(5,5))\n",
        "print(c)"
      ],
      "metadata": {
        "colab": {
          "base_uri": "https://localhost:8080/"
        },
        "id": "2aIjbokIkLq8",
        "outputId": "4fc00432-bee1-4be5-98d6-d03db5023a85"
      },
      "execution_count": null,
      "outputs": [
        {
          "output_type": "stream",
          "name": "stdout",
          "text": [
            "[[24 81 63 34 30]\n",
            " [80 24 75 73 58]\n",
            " [24 74 27 52 12]\n",
            " [20 61 38 83 17]\n",
            " [73 34 18 60 14]]\n"
          ]
        }
      ]
    },
    {
      "cell_type": "code",
      "source": [
        "#array dimension\n",
        "print(c.shape)"
      ],
      "metadata": {
        "colab": {
          "base_uri": "https://localhost:8080/"
        },
        "id": "aLW39-JKkiRv",
        "outputId": "d8a7ca40-2e5f-46da-db90-1d5da927aad3"
      },
      "execution_count": null,
      "outputs": [
        {
          "output_type": "stream",
          "name": "stdout",
          "text": [
            "(5, 5)\n"
          ]
        }
      ]
    },
    {
      "cell_type": "code",
      "source": [
        "#number of dimensions\n",
        "print(c.ndim)"
      ],
      "metadata": {
        "colab": {
          "base_uri": "https://localhost:8080/"
        },
        "id": "TMJ32lotko-a",
        "outputId": "b9440084-43b2-47de-ef1d-e4ee49a35a18"
      },
      "execution_count": null,
      "outputs": [
        {
          "output_type": "stream",
          "name": "stdout",
          "text": [
            "2\n"
          ]
        }
      ]
    },
    {
      "cell_type": "code",
      "source": [
        "#number of elementss in an array\n",
        "print(c.size)"
      ],
      "metadata": {
        "colab": {
          "base_uri": "https://localhost:8080/"
        },
        "id": "6XmnMQ8-ktvb",
        "outputId": "9a7bb82b-75d7-4f64-d056-6b9eebf66294"
      },
      "execution_count": null,
      "outputs": [
        {
          "output_type": "stream",
          "name": "stdout",
          "text": [
            "25\n"
          ]
        }
      ]
    },
    {
      "cell_type": "code",
      "source": [
        "# checking the data type of the values in the array\n",
        "print(c.dtype)"
      ],
      "metadata": {
        "colab": {
          "base_uri": "https://localhost:8080/"
        },
        "id": "popxdi5GlEkB",
        "outputId": "0efc4582-9cf7-4a16-e88f-283b8047d462"
      },
      "execution_count": null,
      "outputs": [
        {
          "output_type": "stream",
          "name": "stdout",
          "text": [
            "int64\n"
          ]
        }
      ]
    },
    {
      "cell_type": "markdown",
      "source": [
        "**Mathematical operations on a np array**"
      ],
      "metadata": {
        "id": "Dm4fOLM9lXvJ"
      }
    },
    {
      "cell_type": "code",
      "source": [
        "list1 = [1,1,4,5,5]\n",
        "list2 = [5,4,67,6]\n",
        "\n",
        "print(list1 + list2)"
      ],
      "metadata": {
        "colab": {
          "base_uri": "https://localhost:8080/"
        },
        "id": "eqJDMjW_liIh",
        "outputId": "056b9638-f790-4fc5-f551-c7fbc9ac1aed"
      },
      "execution_count": null,
      "outputs": [
        {
          "output_type": "stream",
          "name": "stdout",
          "text": [
            "[1, 1, 4, 5, 5, 5, 4, 67, 6]\n"
          ]
        }
      ]
    },
    {
      "cell_type": "code",
      "source": [
        "a = np.random.randint(0,10,(3,3))\n",
        "b = np.random.randint(10,20,(3,3))"
      ],
      "metadata": {
        "id": "WYgWuVY_lvcn"
      },
      "execution_count": null,
      "outputs": []
    },
    {
      "cell_type": "code",
      "source": [
        "print(a)\n",
        "print(b)"
      ],
      "metadata": {
        "colab": {
          "base_uri": "https://localhost:8080/"
        },
        "id": "V6-rx_E6l9aT",
        "outputId": "f9ae4ddc-526d-4c11-b7e6-e75ca2801d89"
      },
      "execution_count": null,
      "outputs": [
        {
          "output_type": "stream",
          "name": "stdout",
          "text": [
            "[[8 5 5]\n",
            " [0 1 1]\n",
            " [5 9 4]]\n",
            "[[14 12 13]\n",
            " [12 15 12]\n",
            " [16 16 11]]\n"
          ]
        }
      ]
    },
    {
      "cell_type": "code",
      "source": [
        "print(a+b)\n",
        "print(a-b)\n",
        "print(a*b)\n",
        "print(a/b)"
      ],
      "metadata": {
        "colab": {
          "base_uri": "https://localhost:8080/"
        },
        "id": "WOKWeKoSl_87",
        "outputId": "51c11a24-9be4-4dc4-b385-461bfd34fa3e"
      },
      "execution_count": null,
      "outputs": [
        {
          "output_type": "stream",
          "name": "stdout",
          "text": [
            "[[22 17 18]\n",
            " [12 16 13]\n",
            " [21 25 15]]\n",
            "[[ -6  -7  -8]\n",
            " [-12 -14 -11]\n",
            " [-11  -7  -7]]\n",
            "[[112  60  65]\n",
            " [  0  15  12]\n",
            " [ 80 144  44]]\n",
            "[[0.57142857 0.41666667 0.38461538]\n",
            " [0.         0.06666667 0.08333333]\n",
            " [0.3125     0.5625     0.36363636]]\n"
          ]
        }
      ]
    },
    {
      "cell_type": "code",
      "source": [
        "a = np.random.randint(0,10,(3,3))\n",
        "b = np.random.randint(10,20,(3,3))"
      ],
      "metadata": {
        "id": "y8cPh6uRmwiO"
      },
      "execution_count": null,
      "outputs": []
    },
    {
      "cell_type": "code",
      "source": [
        "print(a)\n",
        "print(b)"
      ],
      "metadata": {
        "colab": {
          "base_uri": "https://localhost:8080/"
        },
        "id": "yhIQ1Gggm8Q1",
        "outputId": "5be342c0-11c9-4eb5-ff20-8f5ba279bd74"
      },
      "execution_count": null,
      "outputs": [
        {
          "output_type": "stream",
          "name": "stdout",
          "text": [
            "[[9 0 2]\n",
            " [9 4 3]\n",
            " [5 2 1]]\n",
            "[[14 13 16]\n",
            " [17 11 11]\n",
            " [10 15 10]]\n"
          ]
        }
      ]
    },
    {
      "cell_type": "code",
      "source": [
        "print(np.add(a,b))\n",
        "print(np.subtract(a,b))\n",
        "print(np.multiply(a,b))\n",
        "print(np.divide(a,b))"
      ],
      "metadata": {
        "colab": {
          "base_uri": "https://localhost:8080/"
        },
        "id": "W1-9Gq1lm_Sk",
        "outputId": "35709219-fab9-4b02-ee8d-c5f9ec20e4e1"
      },
      "execution_count": null,
      "outputs": [
        {
          "output_type": "stream",
          "name": "stdout",
          "text": [
            "[[23 13 18]\n",
            " [26 15 14]\n",
            " [15 17 11]]\n",
            "[[ -5 -13 -14]\n",
            " [ -8  -7  -8]\n",
            " [ -5 -13  -9]]\n",
            "[[126   0  32]\n",
            " [153  44  33]\n",
            " [ 50  30  10]]\n",
            "[[0.64285714 0.         0.125     ]\n",
            " [0.52941176 0.36363636 0.27272727]\n",
            " [0.5        0.13333333 0.1       ]]\n"
          ]
        }
      ]
    },
    {
      "cell_type": "markdown",
      "source": [
        "Array Manipulation"
      ],
      "metadata": {
        "id": "KD06C3C3ngQl"
      }
    },
    {
      "cell_type": "code",
      "source": [
        "array = np.random.randint(0,10,(2,3))\n",
        "print(array)\n",
        "print(array.shape)\n"
      ],
      "metadata": {
        "colab": {
          "base_uri": "https://localhost:8080/"
        },
        "id": "_WYCV9_onWtE",
        "outputId": "14dbec6b-68fc-4d5c-f0b7-935bf5fdf86e"
      },
      "execution_count": null,
      "outputs": [
        {
          "output_type": "stream",
          "name": "stdout",
          "text": [
            "[[0 8 0]\n",
            " [4 4 7]]\n",
            "(2, 3)\n"
          ]
        }
      ]
    },
    {
      "cell_type": "code",
      "source": [
        "#transpose\n",
        "trans = np.transpose(array)\n",
        "print(trans)\n",
        "print(trans.shape)"
      ],
      "metadata": {
        "colab": {
          "base_uri": "https://localhost:8080/"
        },
        "id": "oWfXU1IPnfJO",
        "outputId": "99360295-f3cd-4679-958d-4d3c4de4df66"
      },
      "execution_count": null,
      "outputs": [
        {
          "output_type": "stream",
          "name": "stdout",
          "text": [
            "[[0 4]\n",
            " [8 4]\n",
            " [0 7]]\n",
            "(3, 2)\n"
          ]
        }
      ]
    },
    {
      "cell_type": "code",
      "source": [
        "trans2 = array.T\n",
        "print(trans2)\n",
        "print(trans2.shape)"
      ],
      "metadata": {
        "colab": {
          "base_uri": "https://localhost:8080/"
        },
        "id": "Nrk_TrXloIgB",
        "outputId": "4a6afa26-8a09-4d62-d63e-8381c4c967d0"
      },
      "execution_count": null,
      "outputs": [
        {
          "output_type": "stream",
          "name": "stdout",
          "text": [
            "[[0 4]\n",
            " [8 4]\n",
            " [0 7]]\n",
            "(3, 2)\n"
          ]
        }
      ]
    },
    {
      "cell_type": "code",
      "source": [
        "#reshaping a array\n",
        "a = np.random.randint(0,10,(2,3))\n",
        "print(a)\n",
        "print(a.shape)"
      ],
      "metadata": {
        "colab": {
          "base_uri": "https://localhost:8080/"
        },
        "id": "sh6AFmO2ocyK",
        "outputId": "13ecc966-a544-471c-ea05-0b120a535b3e"
      },
      "execution_count": null,
      "outputs": [
        {
          "output_type": "stream",
          "name": "stdout",
          "text": [
            "[[2 4 4]\n",
            " [4 9 2]]\n",
            "(2, 3)\n"
          ]
        }
      ]
    },
    {
      "cell_type": "code",
      "source": [
        "b = a.reshape(3,2)\n",
        "print(b)\n",
        "print(b.shape)"
      ],
      "metadata": {
        "id": "elra1qHjosIa"
      },
      "execution_count": null,
      "outputs": []
    }
  ]
}