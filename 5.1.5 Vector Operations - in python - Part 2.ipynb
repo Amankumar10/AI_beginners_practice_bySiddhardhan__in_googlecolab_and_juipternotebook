{
 "cells": [
  {
   "cell_type": "code",
   "execution_count": 4,
   "metadata": {},
   "outputs": [],
   "source": [
    "import numpy as np "
   ]
  },
  {
   "cell_type": "markdown",
   "metadata": {},
   "source": [
    "Dot Product of 2  Vectors"
   ]
  },
  {
   "cell_type": "code",
   "execution_count": 8,
   "metadata": {},
   "outputs": [
    {
     "data": {
      "text/plain": [
       "20"
      ]
     },
     "execution_count": 8,
     "metadata": {},
     "output_type": "execute_result"
    }
   ],
   "source": [
    "a = np.asarray([2,3])\n",
    "b= np.sarray([4,4])\n",
    "a_dot_b = np.dot(a,b)\n",
    "a_dot_b\n"
   ]
  },
  {
   "cell_type": "markdown",
   "metadata": {},
   "source": [
    "Cross Product of 2 Vector"
   ]
  },
  {
   "cell_type": "code",
   "execution_count": 9,
   "metadata": {},
   "outputs": [
    {
     "data": {
      "text/plain": [
       "array(-4)"
      ]
     },
     "execution_count": 9,
     "metadata": {},
     "output_type": "execute_result"
    }
   ],
   "source": [
    "a = np.asarray([2,3])\n",
    "b= np.asarray([4,4])\n",
    "\n",
    "a_cross_b = np.cross(a,b)\n",
    "a_cross_b"
   ]
  },
  {
   "cell_type": "code",
   "execution_count": 10,
   "metadata": {},
   "outputs": [
    {
     "data": {
      "text/plain": [
       "array([21, 46, -4])"
      ]
     },
     "execution_count": 10,
     "metadata": {},
     "output_type": "execute_result"
    }
   ],
   "source": [
    "a = np.asarray([2,3,45])\n",
    "b= np.asarray([4,4,67])\n",
    "\n",
    "a_cross_b = np.cross(a,b)\n",
    "a_cross_b"
   ]
  },
  {
   "cell_type": "markdown",
   "metadata": {},
   "source": [
    "Projection of \"a\" vector on \"v\" vector"
   ]
  },
  {
   "cell_type": "code",
   "execution_count": 13,
   "metadata": {},
   "outputs": [
    {
     "name": "stdout",
     "output_type": "stream",
     "text": [
      "Projection of a vector on v vector=  [-1.12  0.84]\n"
     ]
    }
   ],
   "source": [
    "a =  np.asarray([2,5])\n",
    "v= np.asarray([8,-6])\n",
    "magnitude_of_v = np.sqrt(sum(v**2))\n",
    "proj_of_aonv= (np.dot(a,v)/magnitude_of_v**2)*v\n",
    "print('Projection of a vector on v vector= ', proj_of_aonv)"
   ]
  },
  {
   "cell_type": "code",
   "execution_count": 14,
   "metadata": {},
   "outputs": [
    {
     "name": "stdout",
     "output_type": "stream",
     "text": [
      "Projection of a vector on v vector=  [32.95542515 14.92321139 42.28243226]\n"
     ]
    }
   ],
   "source": [
    "a =  np.asarray([40,20,35])\n",
    "v= np.asarray([53,24,68])\n",
    "magnitude_of_v = np.sqrt(sum(v**2))\n",
    "proj_of_aonv= (np.dot(a,v)/magnitude_of_v**2)*v\n",
    "print('Projection of a vector on v vector= ', proj_of_aonv)"
   ]
  },
  {
   "cell_type": "code",
   "execution_count": null,
   "metadata": {},
   "outputs": [],
   "source": []
  }
 ],
 "metadata": {
  "kernelspec": {
   "display_name": "aibeginnerspractice",
   "language": "python",
   "name": "aibeginnerspractice"
  },
  "language_info": {
   "codemirror_mode": {
    "name": "ipython",
    "version": 3
   },
   "file_extension": ".py",
   "mimetype": "text/x-python",
   "name": "python",
   "nbconvert_exporter": "python",
   "pygments_lexer": "ipython3",
   "version": "3.12.1"
  }
 },
 "nbformat": 4,
 "nbformat_minor": 2
}
